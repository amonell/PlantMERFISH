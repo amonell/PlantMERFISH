{
 "cells": [
  {
   "cell_type": "code",
   "execution_count": 1,
   "id": "be1a318e",
   "metadata": {},
   "outputs": [],
   "source": [
    "import pandas as pd\n",
    "import scanpy as sc\n",
    "import numpy as np\n",
    "import matplotlib.pyplot as plt\n",
    "from src.transcript_seg_functions import *"
   ]
  },
  {
   "cell_type": "code",
   "execution_count": 2,
   "id": "87d8def3",
   "metadata": {},
   "outputs": [],
   "source": [
    "folder_selected1, detected_tanscripts, answer, folder_selected = take_user_input()\n",
    "d2 = detected_tanscripts[detected_tanscripts['global_z'].isin(answer)]\n",
    "\n"
   ]
  },
  {
   "cell_type": "code",
   "execution_count": 3,
   "id": "96139bc2",
   "metadata": {},
   "outputs": [],
   "source": [
    "m_object = MERSCOPE_analyzer(detected_tanscripts, folder_selected, folder_selected1, d2)"
   ]
  },
  {
   "cell_type": "code",
   "execution_count": null,
   "id": "b1383839",
   "metadata": {},
   "outputs": [],
   "source": [
    "m_object.get_image()\n",
    "m_object.run_cellpose_custom()\n",
    "m_object.create_total_image_from_masks()\n",
    "m_object.top3()\n",
    "m_object.get_baysor_commands()"
   ]
  },
  {
   "cell_type": "code",
   "execution_count": 7,
   "id": "b3cdf6f9",
   "metadata": {},
   "outputs": [
    {
     "data": {
      "application/vnd.jupyter.widget-view+json": {
       "model_id": "f783bc51be5548d6b19d541c0860c9be",
       "version_major": 2,
       "version_minor": 0
      },
      "text/plain": [
       "  0%|          | 0/550 [00:00<?, ?it/s]"
      ]
     },
     "metadata": {},
     "output_type": "display_data"
    },
    {
     "name": "stderr",
     "output_type": "stream",
     "text": [
      "C:\\Users\\amonell\\Anaconda3\\envs\\vizgen_cellpose\\lib\\site-packages\\anndata\\_core\\anndata.py:798: UserWarning: \n",
      "AnnData expects .obs.index to contain strings, but got values like:\n",
      "    [1, 2, 3, 4, 5]\n",
      "\n",
      "    Inferred to be: integer\n",
      "\n",
      "  value_idx = self._prep_dim_index(value.index, attr)\n",
      "C:\\Users\\amonell\\Anaconda3\\envs\\vizgen_cellpose\\lib\\site-packages\\anndata\\_core\\anndata.py:121: ImplicitModificationWarning: Transforming to str index.\n",
      "  warnings.warn(\"Transforming to str index.\", ImplicitModificationWarning)\n",
      "C:\\Users\\amonell\\Anaconda3\\envs\\vizgen_cellpose\\lib\\site-packages\\anndata\\_core\\anndata.py:798: UserWarning: \n",
      "AnnData expects .obs.index to contain strings, but got values like:\n",
      "    [2, 3, 4, 5, 6]\n",
      "\n",
      "    Inferred to be: integer\n",
      "\n",
      "  value_idx = self._prep_dim_index(value.index, attr)\n",
      "C:\\Users\\amonell\\Anaconda3\\envs\\vizgen_cellpose\\lib\\site-packages\\scanpy\\preprocessing\\_simple.py:373: UserWarning: Received a view of an AnnData. Making a copy.\n",
      "  view_to_actual(adata)\n",
      "C:\\Users\\amonell\\Anaconda3\\envs\\vizgen_cellpose\\lib\\site-packages\\anndata\\_core\\anndata.py:121: ImplicitModificationWarning: Transforming to str index.\n",
      "  warnings.warn(\"Transforming to str index.\", ImplicitModificationWarning)\n"
     ]
    },
    {
     "name": "stdout",
     "output_type": "stream",
     "text": [
      "WARNING: saving figure to file figures\\umap_leiden.png\n"
     ]
    },
    {
     "name": "stderr",
     "output_type": "stream",
     "text": [
      "C:\\Users\\amonell\\Anaconda3\\envs\\vizgen_cellpose\\lib\\site-packages\\scanpy\\plotting\\_tools\\scatterplots.py:392: UserWarning: No data for colormapping provided via 'c'. Parameters 'cmap' will be ignored\n",
      "  cax = scatter(\n"
     ]
    },
    {
     "name": "stdout",
     "output_type": "stream",
     "text": [
      "WARNING: saving figure to file figures\\spatial_leiden.png\n"
     ]
    },
    {
     "name": "stderr",
     "output_type": "stream",
     "text": [
      "C:\\Users\\amonell\\Anaconda3\\envs\\vizgen_cellpose\\lib\\site-packages\\scanpy\\plotting\\_tools\\scatterplots.py:392: UserWarning: No data for colormapping provided via 'c'. Parameters 'cmap' will be ignored\n",
      "  cax = scatter(\n"
     ]
    }
   ],
   "source": [
    "if m_object.baysor == False:\n",
    "    m_object.create_cell_by_gene_()\n",
    "    m_object.create_adata_and_add_observations()\n",
    "    m_object.plot_qc()\n",
    "    m_object.postprocess_adata()\n",
    "else:\n",
    "    while True:\n",
    "        messagebox.showinfo(\"Option\",\"Press ok after Baysor has finished running and files are transferred\")\n",
    "        try:\n",
    "            m_object.read_in_segmentation_baysor()\n",
    "            m_object.create_baysor_cellxgene()\n",
    "            m_object.create_baysor_adata()\n",
    "            m_object.baysor_qc_plots()\n",
    "            m_object.baysor_postprocess_adata()\n",
    "            break\n",
    "        except:\n",
    "            continue"
   ]
  },
  {
   "cell_type": "markdown",
   "id": "6cb4c351",
   "metadata": {},
   "source": [
    "# For training on the 2 slice set"
   ]
  },
  {
   "cell_type": "code",
   "execution_count": null,
   "id": "a9eee438",
   "metadata": {},
   "outputs": [],
   "source": [
    "import cv2\n",
    "#create cellpose images for labeling\n",
    "for i in range(2000, len(new_img[0]), 2000):\n",
    "    for j in range(2000, len(new_img[1]), 2000):      \n",
    "        plt.imshow(new_img[i-2000:i, j-2000:j], vmax=1, cmap='gray')\n",
    "        plt.show()\n",
    "        value = input(\"y or n\")\n",
    "        if value == 'y':\n",
    "            io.imsave(r'C:\\Users\\amonell\\Downloads\\label_cellpose_images_allslice\\labeling'+str(i)+'_to_'+str(j)+'.tiff', new_img[i-2000:i, j-2000:j])"
   ]
  },
  {
   "cell_type": "code",
   "execution_count": null,
   "id": "8ab46514",
   "metadata": {
    "scrolled": true
   },
   "outputs": [],
   "source": [
    "import cv2\n",
    "#used to create images for cellpose training\n",
    "for i in range(2000, len(new_img[0]), 2000):\n",
    "    for j in range(2000, len(new_img[1]), 2000):      \n",
    "        plt.imshow(new_img[i-2000:i, j-2000:j], vmax=1, cmap='gray')\n",
    "        plt.show()\n",
    "        value = input(\"y or n\")\n",
    "        if value == 'y':\n",
    "            # ksize\n",
    "            ksize = (5, 5)\n",
    "\n",
    "            # Using cv2.blur() method \n",
    "            image = cv2.blur(new_img[i-2000:i, j-2000:j], ksize) \n",
    "            image = image * 255\n",
    "            io.imsave(r'C:\\Users\\amonell\\Downloads\\transcript_images_to_label_slice3\\training'+str(i)+'_to_'+str(j)+'.tiff', image)"
   ]
  },
  {
   "cell_type": "markdown",
   "id": "237dd078",
   "metadata": {},
   "source": [
    "# For training on all slices"
   ]
  },
  {
   "cell_type": "code",
   "execution_count": 18,
   "id": "57872789",
   "metadata": {},
   "outputs": [],
   "source": [
    "import cv2\n",
    "#create cellpose images for labeling\n",
    "for i in range(2000, len(new_img_all[0]), 2000):\n",
    "    for j in range(2000, len(new_img_all[1]), 2000):      \n",
    "        plt.imshow(new_img_all[i-2000:i, j-2000:j], vmax=1, cmap='gray')\n",
    "        plt.show()\n",
    "        value = input(\"y or n\")\n",
    "        if value == 'y':\n",
    "            io.imsave(r'C:\\Users\\amonell\\Downloads\\label_cellpose_images_allslice\\labeling'+str(i)+'_to_'+str(j)+'.tiff', new_img[i-2000:i, j-2000:j])"
   ]
  },
  {
   "cell_type": "code",
   "execution_count": 19,
   "id": "a8d6e657",
   "metadata": {},
   "outputs": [],
   "source": [
    "import cv2\n",
    "#used to create images for cellpose training\n",
    "for i in range(2000, len(new_img_all[0]), 2000):\n",
    "    for j in range(2000, len(new_img_all[1]), 2000):      \n",
    "        plt.imshow(new_img_all[i-2000:i, j-2000:j], vmax=1, cmap='gray')\n",
    "        plt.show()\n",
    "        value = input(\"y or n\")\n",
    "        if value == 'y':\n",
    "            # ksize\n",
    "            ksize = (5, 5)\n",
    "\n",
    "            # Using cv2.blur() method \n",
    "            image = cv2.blur(new_img_all[i-2000:i, j-2000:j], ksize) \n",
    "            image = image * 255\n",
    "            io.imsave(r'C:\\Users\\amonell\\Downloads\\label_cellpose_images_allslice\\training'+str(i)+'_to_'+str(j)+'.tiff', image)"
   ]
  }
 ],
 "metadata": {
  "kernelspec": {
   "display_name": "Python 3 (ipykernel)",
   "language": "python",
   "name": "python3"
  },
  "language_info": {
   "codemirror_mode": {
    "name": "ipython",
    "version": 3
   },
   "file_extension": ".py",
   "mimetype": "text/x-python",
   "name": "python",
   "nbconvert_exporter": "python",
   "pygments_lexer": "ipython3",
   "version": "3.10.4"
  }
 },
 "nbformat": 4,
 "nbformat_minor": 5
}
