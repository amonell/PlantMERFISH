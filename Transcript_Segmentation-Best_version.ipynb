{
 "cells": [
  {
   "cell_type": "code",
   "execution_count": 1,
   "id": "be1a318e",
   "metadata": {},
   "outputs": [],
   "source": [
    "import pandas as pd\n",
    "import scanpy as sc\n",
    "import numpy as np\n",
    "import matplotlib.pyplot as plt\n",
    "from src.transcript_seg_functions import *\n"
   ]
  },
  {
   "cell_type": "code",
   "execution_count": 3,
   "id": "c60ba4e7",
   "metadata": {
    "scrolled": true
   },
   "outputs": [
    {
     "name": "stdout",
     "output_type": "stream",
     "text": [
      "3419345\n"
     ]
    }
   ],
   "source": [
    "\n",
    "folder_selected1, detected_tanscripts, answer, folder_selected = take_user_input()\n",
    "d2 = detected_tanscripts[detected_tanscripts['global_z'].isin(answer)]\n",
    "dict_detected, new_img = get_image(d2) "
   ]
  },
  {
   "cell_type": "code",
   "execution_count": 4,
   "id": "b5f77fcc",
   "metadata": {
    "scrolled": true
   },
   "outputs": [
    {
     "name": "stdout",
     "output_type": "stream",
     "text": [
      "0 1 2 3 4 5 7 8 9 10 11 12 14 15 16 17 18 19 21 22 23 24 25 26 28 29 30 31 32 33 38 39 40 46 "
     ]
    }
   ],
   "source": [
    "\n",
    "masks = run_cellpose_custom(new_img, folder_selected)\n",
    "\n",
    "\n"
   ]
  },
  {
   "cell_type": "code",
   "execution_count": 5,
   "id": "4b28ed4b",
   "metadata": {},
   "outputs": [],
   "source": [
    "reconstruction, vizualized_reconstruction = create_total_image_from_masks(masks, new_img, folder_selected)"
   ]
  },
  {
   "cell_type": "code",
   "execution_count": 6,
   "id": "47440a68",
   "metadata": {},
   "outputs": [],
   "source": [
    "#vizualized_reconstruction = io.imread(folder_selected + os.path.sep +'cellmask_reconstruction.tiff')\n",
    "  \n",
    "top3(folder_selected, detected_tanscripts, vizualized_reconstruction)"
   ]
  },
  {
   "cell_type": "code",
   "execution_count": 7,
   "id": "43e25ad6",
   "metadata": {
    "scrolled": true
   },
   "outputs": [
    {
     "data": {
      "application/vnd.jupyter.widget-view+json": {
       "model_id": "61670f51fb464c60b027c127a7a16893",
       "version_major": 2,
       "version_minor": 0
      },
      "text/plain": [
       "  0%|          | 0/550 [00:00<?, ?it/s]"
      ]
     },
     "metadata": {},
     "output_type": "display_data"
    }
   ],
   "source": [
    "\n",
    "cell_by_gene, postions_not_in = create_cell_by_gene_(detected_tanscripts, reconstruction, folder_selected)\n"
   ]
  },
  {
   "cell_type": "code",
   "execution_count": null,
   "id": "e487278d",
   "metadata": {
    "scrolled": true
   },
   "outputs": [],
   "source": [
    "adata, num_transcripts = create_adata_and_add_observations(folder_selected, cell_by_gene, masks, reconstruction)\n"
   ]
  },
  {
   "cell_type": "code",
   "execution_count": null,
   "id": "bcb898a6",
   "metadata": {},
   "outputs": [
    {
     "name": "stderr",
     "output_type": "stream",
     "text": [
      "C:\\Users\\amonell\\Anaconda3\\envs\\vizgen_cellpose\\lib\\site-packages\\scanpy\\preprocessing\\_simple.py:373: UserWarning: Received a view of an AnnData. Making a copy.\n",
      "  view_to_actual(adata)\n"
     ]
    }
   ],
   "source": [
    "plot_qc(adata)\n",
    "postprocess_adata(adata, num_transcripts, folder_selected)"
   ]
  },
  {
   "cell_type": "markdown",
   "id": "6cb4c351",
   "metadata": {},
   "source": [
    "# For training on the 2 slice set"
   ]
  },
  {
   "cell_type": "code",
   "execution_count": null,
   "id": "a9eee438",
   "metadata": {},
   "outputs": [],
   "source": [
    "import cv2\n",
    "#create cellpose images for labeling\n",
    "for i in range(2000, len(new_img[0]), 2000):\n",
    "    for j in range(2000, len(new_img[1]), 2000):      \n",
    "        plt.imshow(new_img[i-2000:i, j-2000:j], vmax=1, cmap='gray')\n",
    "        plt.show()\n",
    "        value = input(\"y or n\")\n",
    "        if value == 'y':\n",
    "            io.imsave(r'C:\\Users\\amonell\\Downloads\\label_cellpose_images_allslice\\labeling'+str(i)+'_to_'+str(j)+'.tiff', new_img[i-2000:i, j-2000:j])"
   ]
  },
  {
   "cell_type": "code",
   "execution_count": null,
   "id": "8ab46514",
   "metadata": {
    "scrolled": true
   },
   "outputs": [],
   "source": [
    "import cv2\n",
    "#used to create images for cellpose training\n",
    "for i in range(2000, len(new_img[0]), 2000):\n",
    "    for j in range(2000, len(new_img[1]), 2000):      \n",
    "        plt.imshow(new_img[i-2000:i, j-2000:j], vmax=1, cmap='gray')\n",
    "        plt.show()\n",
    "        value = input(\"y or n\")\n",
    "        if value == 'y':\n",
    "            # ksize\n",
    "            ksize = (5, 5)\n",
    "\n",
    "            # Using cv2.blur() method \n",
    "            image = cv2.blur(new_img[i-2000:i, j-2000:j], ksize) \n",
    "            image = image * 255\n",
    "            io.imsave(r'C:\\Users\\amonell\\Downloads\\transcript_images_to_label_slice3\\training'+str(i)+'_to_'+str(j)+'.tiff', image)"
   ]
  },
  {
   "cell_type": "markdown",
   "id": "237dd078",
   "metadata": {},
   "source": [
    "# For training on all slices"
   ]
  },
  {
   "cell_type": "code",
   "execution_count": 18,
   "id": "57872789",
   "metadata": {},
   "outputs": [],
   "source": [
    "import cv2\n",
    "#create cellpose images for labeling\n",
    "for i in range(2000, len(new_img_all[0]), 2000):\n",
    "    for j in range(2000, len(new_img_all[1]), 2000):      \n",
    "        plt.imshow(new_img_all[i-2000:i, j-2000:j], vmax=1, cmap='gray')\n",
    "        plt.show()\n",
    "        value = input(\"y or n\")\n",
    "        if value == 'y':\n",
    "            io.imsave(r'C:\\Users\\amonell\\Downloads\\label_cellpose_images_allslice\\labeling'+str(i)+'_to_'+str(j)+'.tiff', new_img[i-2000:i, j-2000:j])"
   ]
  },
  {
   "cell_type": "code",
   "execution_count": 19,
   "id": "a8d6e657",
   "metadata": {},
   "outputs": [],
   "source": [
    "import cv2\n",
    "#used to create images for cellpose training\n",
    "for i in range(2000, len(new_img_all[0]), 2000):\n",
    "    for j in range(2000, len(new_img_all[1]), 2000):      \n",
    "        plt.imshow(new_img_all[i-2000:i, j-2000:j], vmax=1, cmap='gray')\n",
    "        plt.show()\n",
    "        value = input(\"y or n\")\n",
    "        if value == 'y':\n",
    "            # ksize\n",
    "            ksize = (5, 5)\n",
    "\n",
    "            # Using cv2.blur() method \n",
    "            image = cv2.blur(new_img_all[i-2000:i, j-2000:j], ksize) \n",
    "            image = image * 255\n",
    "            io.imsave(r'C:\\Users\\amonell\\Downloads\\label_cellpose_images_allslice\\training'+str(i)+'_to_'+str(j)+'.tiff', image)"
   ]
  }
 ],
 "metadata": {
  "kernelspec": {
   "display_name": "Python 3 (ipykernel)",
   "language": "python",
   "name": "python3"
  },
  "language_info": {
   "codemirror_mode": {
    "name": "ipython",
    "version": 3
   },
   "file_extension": ".py",
   "mimetype": "text/x-python",
   "name": "python",
   "nbconvert_exporter": "python",
   "pygments_lexer": "ipython3",
   "version": "3.10.4"
  }
 },
 "nbformat": 4,
 "nbformat_minor": 5
}
