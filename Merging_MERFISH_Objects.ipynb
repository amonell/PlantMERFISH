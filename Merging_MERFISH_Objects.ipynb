{
 "cells": [
  {
   "cell_type": "code",
   "execution_count": 4,
   "id": "3573b76a",
   "metadata": {
    "scrolled": true
   },
   "outputs": [],
   "source": [
    "import scanpy as sc\n",
    "import os\n",
    "import glob\n",
    "from src.multiome_merfish_merge import *"
   ]
  },
  {
   "cell_type": "code",
   "execution_count": 7,
   "id": "4dfdb4be",
   "metadata": {
    "scrolled": true
   },
   "outputs": [
    {
     "ename": "TypeError",
     "evalue": "AnnData.__init__() got an unexpected keyword argument 'data'",
     "output_type": "error",
     "traceback": [
      "\u001b[1;31m---------------------------------------------------------------------------\u001b[0m",
      "\u001b[1;31mTypeError\u001b[0m                                 Traceback (most recent call last)",
      "Cell \u001b[1;32mIn [7], line 1\u001b[0m\n\u001b[1;32m----> 1\u001b[0m adata \u001b[38;5;241m=\u001b[39m \u001b[43mprobe_r_or_scanpy\u001b[49m\u001b[43m(\u001b[49m\u001b[43m)\u001b[49m\n\u001b[0;32m      2\u001b[0m \u001b[38;5;66;03m#list_of_scanpy_object_files = [r'D:\\Alex\\MERSCOPE_reanalysis_output\\24hr_kt56\\adata.h5ad', r'D:\\Alex\\MERSCOPE_reanalysis_output\\24hr_avrrpt\\adata.h5ad', r'D:\\Alex\\MERSCOPE_reanalysis_output\\24hr_mock\\adata.h5ad']\u001b[39;00m\n\u001b[0;32m      4\u001b[0m list_of_scanpy_object_files \u001b[38;5;241m=\u001b[39m glob\u001b[38;5;241m.\u001b[39mglob(\u001b[38;5;124m'\u001b[39m\u001b[38;5;124moutputs/*/*.h5ad\u001b[39m\u001b[38;5;124m'\u001b[39m)\n",
      "File \u001b[1;32m~\\PlantMERFISH\\src\\multiome_merfish_merge.py:258\u001b[0m, in \u001b[0;36mprobe_r_or_scanpy\u001b[1;34m()\u001b[0m\n\u001b[0;32m    256\u001b[0m     adata \u001b[38;5;241m=\u001b[39m diopy\u001b[38;5;241m.\u001b[39minput\u001b[38;5;241m.\u001b[39mread_h5(file \u001b[38;5;241m=\u001b[39m adata_file)\n\u001b[0;32m    257\u001b[0m \u001b[38;5;28;01melse\u001b[39;00m:\n\u001b[1;32m--> 258\u001b[0m     adata \u001b[38;5;241m=\u001b[39m \u001b[43msc\u001b[49m\u001b[38;5;241;43m.\u001b[39;49m\u001b[43mread\u001b[49m\u001b[43m(\u001b[49m\u001b[43madata_file\u001b[49m\u001b[43m)\u001b[49m\n\u001b[0;32m    259\u001b[0m \u001b[38;5;28;01mreturn\u001b[39;00m adata\n",
      "File \u001b[1;32m~\\Anaconda3\\envs\\vizgen_cellpose\\lib\\site-packages\\scanpy\\readwrite.py:112\u001b[0m, in \u001b[0;36mread\u001b[1;34m(filename, backed, sheet, ext, delimiter, first_column_names, backup_url, cache, cache_compression, **kwargs)\u001b[0m\n\u001b[0;32m    110\u001b[0m filename \u001b[38;5;241m=\u001b[39m Path(filename)  \u001b[38;5;66;03m# allow passing strings\u001b[39;00m\n\u001b[0;32m    111\u001b[0m \u001b[38;5;28;01mif\u001b[39;00m is_valid_filename(filename):\n\u001b[1;32m--> 112\u001b[0m     \u001b[38;5;28;01mreturn\u001b[39;00m _read(\n\u001b[0;32m    113\u001b[0m         filename,\n\u001b[0;32m    114\u001b[0m         backed\u001b[38;5;241m=\u001b[39mbacked,\n\u001b[0;32m    115\u001b[0m         sheet\u001b[38;5;241m=\u001b[39msheet,\n\u001b[0;32m    116\u001b[0m         ext\u001b[38;5;241m=\u001b[39mext,\n\u001b[0;32m    117\u001b[0m         delimiter\u001b[38;5;241m=\u001b[39mdelimiter,\n\u001b[0;32m    118\u001b[0m         first_column_names\u001b[38;5;241m=\u001b[39mfirst_column_names,\n\u001b[0;32m    119\u001b[0m         backup_url\u001b[38;5;241m=\u001b[39mbackup_url,\n\u001b[0;32m    120\u001b[0m         cache\u001b[38;5;241m=\u001b[39mcache,\n\u001b[0;32m    121\u001b[0m         cache_compression\u001b[38;5;241m=\u001b[39mcache_compression,\n\u001b[0;32m    122\u001b[0m         \u001b[38;5;241m*\u001b[39m\u001b[38;5;241m*\u001b[39mkwargs,\n\u001b[0;32m    123\u001b[0m     )\n\u001b[0;32m    124\u001b[0m \u001b[38;5;66;03m# generate filename and read to dict\u001b[39;00m\n\u001b[0;32m    125\u001b[0m filekey \u001b[38;5;241m=\u001b[39m \u001b[38;5;28mstr\u001b[39m(filename)\n",
      "File \u001b[1;32m~\\Anaconda3\\envs\\vizgen_cellpose\\lib\\site-packages\\scanpy\\readwrite.py:722\u001b[0m, in \u001b[0;36m_read\u001b[1;34m(filename, backed, sheet, ext, delimiter, first_column_names, backup_url, cache, cache_compression, suppress_cache_warning, **kwargs)\u001b[0m\n\u001b[0;32m    720\u001b[0m \u001b[38;5;28;01mif\u001b[39;00m ext \u001b[38;5;129;01min\u001b[39;00m {\u001b[38;5;124m'\u001b[39m\u001b[38;5;124mh5\u001b[39m\u001b[38;5;124m'\u001b[39m, \u001b[38;5;124m'\u001b[39m\u001b[38;5;124mh5ad\u001b[39m\u001b[38;5;124m'\u001b[39m}:\n\u001b[0;32m    721\u001b[0m     \u001b[38;5;28;01mif\u001b[39;00m sheet \u001b[38;5;129;01mis\u001b[39;00m \u001b[38;5;28;01mNone\u001b[39;00m:\n\u001b[1;32m--> 722\u001b[0m         \u001b[38;5;28;01mreturn\u001b[39;00m \u001b[43mread_h5ad\u001b[49m\u001b[43m(\u001b[49m\u001b[43mfilename\u001b[49m\u001b[43m,\u001b[49m\u001b[43m \u001b[49m\u001b[43mbacked\u001b[49m\u001b[38;5;241;43m=\u001b[39;49m\u001b[43mbacked\u001b[49m\u001b[43m)\u001b[49m\n\u001b[0;32m    723\u001b[0m     \u001b[38;5;28;01melse\u001b[39;00m:\n\u001b[0;32m    724\u001b[0m         logg\u001b[38;5;241m.\u001b[39mdebug(\u001b[38;5;124mf\u001b[39m\u001b[38;5;124m'\u001b[39m\u001b[38;5;124mreading sheet \u001b[39m\u001b[38;5;132;01m{\u001b[39;00msheet\u001b[38;5;132;01m}\u001b[39;00m\u001b[38;5;124m from file \u001b[39m\u001b[38;5;132;01m{\u001b[39;00mfilename\u001b[38;5;132;01m}\u001b[39;00m\u001b[38;5;124m'\u001b[39m)\n",
      "File \u001b[1;32m~\\Anaconda3\\envs\\vizgen_cellpose\\lib\\site-packages\\anndata\\_io\\h5ad.py:254\u001b[0m, in \u001b[0;36mread_h5ad\u001b[1;34m(filename, backed, as_sparse, as_sparse_fmt, chunk_size)\u001b[0m\n\u001b[0;32m    250\u001b[0m         \u001b[38;5;28;01mraise\u001b[39;00m \u001b[38;5;167;01mValueError\u001b[39;00m()\n\u001b[0;32m    252\u001b[0m _clean_uns(d)  \u001b[38;5;66;03m# backwards compat\u001b[39;00m\n\u001b[1;32m--> 254\u001b[0m \u001b[38;5;28;01mreturn\u001b[39;00m AnnData(\u001b[38;5;241m*\u001b[39m\u001b[38;5;241m*\u001b[39md)\n",
      "\u001b[1;31mTypeError\u001b[0m: AnnData.__init__() got an unexpected keyword argument 'data'"
     ]
    }
   ],
   "source": [
    "adata = probe_r_or_scanpy()\n",
    "#list_of_scanpy_object_files = [r'D:\\Alex\\MERSCOPE_reanalysis_output\\24hr_kt56\\adata.h5ad', r'D:\\Alex\\MERSCOPE_reanalysis_output\\24hr_avrrpt\\adata.h5ad', r'D:\\Alex\\MERSCOPE_reanalysis_output\\24hr_mock\\adata.h5ad']\n",
    "\n",
    "list_of_scanpy_object_files = glob.glob('outputs/*/*.h5ad')\n",
    "\n",
    "for lfile in list_of_scanpy_object_files:\n",
    "    \n",
    "    experiment_name = lfile.split(os.path.sep)[-2]\n",
    "    a1 = sc.read(lfile)\n",
    "    gene_to_id_table = pd.read_csv('DataPathogenPanel1/geneID_to_geneName_MERSCOPE_panel1.txt', sep='\\t', index_col=0)\n",
    "\n",
    "    a1, gene_name_list = modify_adata_before_anchors(experiment_name, a1, gene_to_id_table, lfile)\n",
    "    \n",
    "    intersection_list, adata, a1, adata_subset = create_highly_variable(a1, adata)\n",
    "    \n",
    "    a1.var.index = a1.var.gene_name    \n",
    "    \n",
    "    adata_subset, total_subscan = prepare_integration_multiome_object(adata_subset, a1)\n",
    "\n",
    "    adata, total_subscan, a1, adata_subset = update_integration_multiome_object(adata, total_subscan, a1, adata_subset)\n",
    "    \n",
    "    alist = [total_subscan, a1]\n",
    "    \n",
    "    try_avr, a1 = find_anchors_and_transfer_labels(alist)\n",
    "    \n",
    "    a1.write(os.path.dirname(lfile)+os.path.sep+'cellxgene_no_motif'+experiment_name+'.h5ad')\n",
    "    \n",
    "    try_avr = harmony_on_merfish(try_avr)\n",
    "    \n",
    "    try_avr = plot_umap_merfish_rna(try_avr, experiment_name)\n",
    "    \n",
    "    destination = move_figure_path(lfile, experiment_name)\n",
    "    \n",
    "    motif_cols, partial_ad = integrate_motifs(a1)\n",
    "    \n",
    "    plot_motifs(partial_ad, motif_cols, destination)\n",
    "    \n",
    "    partial_ad.write(os.path.dirname(lfile)+os.path.sep+'cellxgene_with_motif'+experiment_name+'.h5ad')\n",
    "    \n",
    "    plot_clusters(a1, try_avr, experiment_name, lfile, destination, save = True)\n",
    "    \n",
    "    #a1.obs['seurat_clusters'] = try_avr[try_avr.obs.index.isin(set(a1.obs.index.tolist())), :].obs['seurat_clusters_transfer']\n",
    "    \n",
    "\n",
    "\n"
   ]
  },
  {
   "cell_type": "code",
   "execution_count": null,
   "id": "a836eb38",
   "metadata": {},
   "outputs": [],
   "source": []
  }
 ],
 "metadata": {
  "kernelspec": {
   "display_name": "Python 3 (ipykernel)",
   "language": "python",
   "name": "python3"
  },
  "language_info": {
   "codemirror_mode": {
    "name": "ipython",
    "version": 3
   },
   "file_extension": ".py",
   "mimetype": "text/x-python",
   "name": "python",
   "nbconvert_exporter": "python",
   "pygments_lexer": "ipython3",
   "version": "3.10.4"
  }
 },
 "nbformat": 4,
 "nbformat_minor": 5
}
