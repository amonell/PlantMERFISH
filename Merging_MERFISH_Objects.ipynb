{
 "cells": [
  {
   "cell_type": "markdown",
   "id": "15945ee0",
   "metadata": {},
   "source": [
    "# Integrate MERFISH objects with the Multiome dataset"
   ]
  },
  {
   "cell_type": "code",
   "execution_count": 1,
   "id": "3573b76a",
   "metadata": {
    "scrolled": true
   },
   "outputs": [],
   "source": [
    "import scanpy as sc\n",
    "import os\n",
    "import glob\n",
    "from src.multiome_merfish_merge import *"
   ]
  },
  {
   "cell_type": "markdown",
   "id": "0cdce69d",
   "metadata": {},
   "source": [
    "The following code will ask for the location of the multiome data. \n",
    "\n",
    "For every h5ad cell-by-gene matrix that has been created and stored in a subdirectory of the folder \"outputs\", all categorical and continuous observations will be transferred from the multiome data to the MERFISH Anndata. "
   ]
  },
  {
   "cell_type": "code",
   "execution_count": 19,
   "id": "4dfdb4be",
   "metadata": {
    "scrolled": true
   },
   "outputs": [],
   "source": [
    "adata = probe_r_or_scanpy()\n",
    "list_of_scanpy_object_files = glob.glob('outputs/*/*.h5ad')\n",
    "\n",
    "for lfile in list_of_scanpy_object_files:\n",
    "    \n",
    "    experiment_name = lfile.split(os.path.sep)[-2]\n",
    "    a1 = sc.read(lfile)\n",
    "    gene_to_id_table = pd.read_csv('DataPathogenPanel1/geneID_to_geneName_MERSCOPE_panel1.txt', sep='\\t', index_col=0)\n",
    "\n",
    "    a1, gene_name_list = modify_adata_before_anchors(experiment_name, a1, gene_to_id_table, lfile)\n",
    "    \n",
    "    intersection_list, adata, a1, adata_subset = create_highly_variable(a1, adata)\n",
    "    \n",
    "    a1.var.index = a1.var.gene_name    \n",
    "    \n",
    "    adata_subset, total_subscan = prepare_integration_multiome_object(adata_subset, a1)\n",
    "\n",
    "    adata, total_subscan, a1, adata_subset = update_integration_multiome_object(adata, total_subscan, a1, adata_subset)\n",
    "    \n",
    "    alist = [total_subscan, a1]\n",
    "    \n",
    "    try_avr, a1 = find_anchors_and_transfer_labels(alist)\n",
    "    \n",
    "    a1.write(os.path.dirname(lfile)+os.path.sep+'cellxgene_no_motif'+experiment_name+'.h5ad')\n",
    "    \n",
    "    try_avr = harmony_on_merfish(try_avr)\n",
    "    \n",
    "    try_avr = plot_umap_merfish_rna(try_avr, experiment_name)\n",
    "    \n",
    "    destination = move_figure_path(lfile, experiment_name)\n",
    "    \n",
    "    motif_cols, partial_ad = integrate_motifs(a1)\n",
    "    \n",
    "    plot_motifs(partial_ad, motif_cols, destination)\n",
    "    \n",
    "    partial_ad.var.index.names = [None]    \n",
    "    partial_ad.var = partial_ad.var.drop([partial_ad.var.columns[0]], axis = 1)    \n",
    "    partial_ad.write(os.path.dirname(lfile)+os.path.sep+'cellxgene_with_motif'+experiment_name+'.h5ad')\n",
    "\n",
    "    plot_clusters(a1, try_avr, experiment_name, lfile, destination, save = True)"
   ]
  }
 ],
 "metadata": {
  "kernelspec": {
   "display_name": "Python 3 (ipykernel)",
   "language": "python",
   "name": "python3"
  },
  "language_info": {
   "codemirror_mode": {
    "name": "ipython",
    "version": 3
   },
   "file_extension": ".py",
   "mimetype": "text/x-python",
   "name": "python",
   "nbconvert_exporter": "python",
   "pygments_lexer": "ipython3",
   "version": "3.10.4"
  }
 },
 "nbformat": 4,
 "nbformat_minor": 5
}
