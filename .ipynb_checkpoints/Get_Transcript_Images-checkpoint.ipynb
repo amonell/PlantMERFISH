{
 "cells": [
  {
   "cell_type": "markdown",
   "id": "82cbecb6",
   "metadata": {},
   "source": [
    "Run the following cells in order to get high quality images of transcript locations across each tissue"
   ]
  },
  {
   "cell_type": "code",
   "execution_count": 1,
   "id": "be1a318e",
   "metadata": {},
   "outputs": [],
   "source": [
    "import pandas as pd\n",
    "import numpy as np\n",
    "from tqdm.notebook import tqdm\n",
    "import matplotlib.pyplot as plt\n",
    "import imageio as io\n",
    "import scanpy as sc\n",
    "import anndata as ad\n",
    "import os\n",
    "import logging\n",
    "from cellpose import models, io\n",
    "import glob\n",
    "from PIL import Image\n",
    "import cv2\n",
    "from tkinter import Tk     # from tkinter import Tk for Python 3.x\n",
    "from tkinter import filedialog\n",
    "from tkinter import *\n",
    "from tkinter import ttk\n",
    "from tkinter import simpledialog\n",
    "from tkinter import messagebox\n",
    "import tkinter as tk\n",
    "import os\n",
    "import logging\n",
    "from cellpose import models, io\n",
    "import shutil"
   ]
  },
  {
   "cell_type": "code",
   "execution_count": 2,
   "id": "c60ba4e7",
   "metadata": {},
   "outputs": [
    {
     "name": "stdout",
     "output_type": "stream",
     "text": [
      "288411\n"
     ]
    }
   ],
   "source": [
    "def get_image(table):      \n",
    "    dict_detected = {}\n",
    "\n",
    "    xlist = d2['global_x'].astype(int).tolist()\n",
    "    ylist = d2['global_y'].astype(int).tolist()\n",
    "    print(len(xlist))\n",
    "    for i in range(len(xlist)):\n",
    "        dict_detected[xlist[i]] = []\n",
    "    for i in range(len(ylist)):\n",
    "        dict_detected[xlist[i]].append(ylist[i])\n",
    "\n",
    "    #create image from transcript locations\n",
    "    new_img = np.zeros((int(np.max(d2['global_x']+3000)), int(np.max(d2['global_y']+3000))))\n",
    "    for i in dict_detected.keys():\n",
    "        new_img[i][dict_detected.get(i)] = 1\n",
    "        \n",
    "    return dict_detected, new_img\n",
    "\n",
    "\n",
    "messagebox.showinfo(\"Option\",\"Please locate the region0 folder for the experiment\")\n",
    "root = Tk()\n",
    "root.withdraw()\n",
    "folder_selected1 = filedialog.askdirectory()\n",
    "\n",
    "messagebox.showinfo(\"Option\",\"Next question appearing shortly\")\n",
    "try:\n",
    "    detected_tanscripts = pd.read_csv(folder_selected1+os.path.sep+'detected_transcripts.csv')\n",
    "except:\n",
    "    print('detected_transcripts.csv not found in the folder')\n",
    "answer = simpledialog.askstring(\"Input\", \"Slices to run segmentation on (separated by commas)\")\n",
    "answer = answer.replace(' ', '')\n",
    "answer = answer.split(',')\n",
    "answer = [float(i) for i in answer]\n",
    "d2 = detected_tanscripts[detected_tanscripts['global_z'].isin(answer)]\n",
    "dict_detected, new_img = get_image(d2) \n",
    "\n",
    "messagebox.showinfo(\"Option\",\"Please select an output folder for the experiment analysis results\")\n",
    "folder_selected = filedialog.askdirectory()"
   ]
  },
  {
   "cell_type": "code",
   "execution_count": 3,
   "id": "b5f77fcc",
   "metadata": {
    "scrolled": false
   },
   "outputs": [
    {
     "name": "stdout",
     "output_type": "stream",
     "text": [
      "0 1 2 3 7 8 9 10 11 14 15 16 17 18 21 22 23 24 25 26 28 29 30 31 32 33 36 37 38 39 40 44 45 "
     ]
    }
   ],
   "source": [
    "\n",
    "\n",
    "messagebox.showinfo(\"Option\",\"Starting Cellpose\")\n",
    "model = models.CellposeModel(gpu=True, pretrained_model='Models/CP_20220920_113001')\n",
    "# define CHANNELS to run segementation on\n",
    "# grayscale=0, R=1, G=2, B=3\n",
    "# channels = [cytoplasm, nucleus]\n",
    "# if NUCLEUS channel does not exist, set the second channel to 0\n",
    "channels = [0,0]\n",
    "masks = []\n",
    "flows = []\n",
    "styles = []\n",
    "diams = []\n",
    "ct = 0\n",
    "for i in range(2000, len(new_img[0]), 2000):\n",
    "    for j in range(2000, len(new_img[1]), 2000):      \n",
    "        ksize = (5, 5)\n",
    "\n",
    "        # Using cv2.blur() method \n",
    "        image = cv2.blur(new_img[i-2000:i, j-2000:j], ksize) \n",
    "        image = image * 255\n",
    "\n",
    "        try:\n",
    "            assert len(np.unique(image))>1\n",
    "            masks_, flows_, styles_= model.eval([image], channels=channels, diameter=14.36,flow_threshold=0, cellprob_threshold=0)\n",
    "            masks.extend(masks_)\n",
    "            flows.extend(flows_)\n",
    "            styles.extend(styles_)\n",
    "            print(ct, end = ' ')\n",
    "        except (AssertionError):\n",
    "            try:\n",
    "                masks.append(np.zeros((len(image[0]), len(image[1]))))\n",
    "                flows.append([])\n",
    "                styles.append([])\n",
    "            except:\n",
    "                masks.append([])\n",
    "                flows.append([])\n",
    "                styles.append([])   \n",
    "        ct += 1\n",
    "temp_img_arr = []\n",
    "for i in range(2000, len(new_img[0]), 2000):\n",
    "    for j in range(2000, len(new_img[1]), 2000):      \n",
    "        ksize = (5, 5)\n",
    "\n",
    "        # Using cv2.blur() method \n",
    "        image = cv2.blur(new_img[i-2000:i, j-2000:j], ksize) \n",
    "        image = image * 255\n",
    "        temp_img_arr.append(image)\n",
    "io.save_masks(temp_img_arr, masks, flows, file_names=['stack_prestain_'+str(i).zfill(6)+'_cp_masks'+'.png' for i in range(len(temp_img_arr))], savedir = folder_selected + os.path.sep +'cellpose_predictions')\n",
    "try:\n",
    "    os.makedirs(folder_selected + os.path.sep +'images_for_cellpose_prediction')\n",
    "except:\n",
    "    None\n",
    "for i in range(len(temp_img_arr)):   \n",
    "    io.imsave(folder_selected + os.path.sep +'images_for_cellpose_prediction'+os.path.sep+'image-'+str(i)+'.tiff', temp_img_arr[i])\n",
    "\n",
    "from PIL import Image\n",
    "for i in range(len(masks)):\n",
    "    masks[i] = masks[i]+(i*10000)\n",
    "h_list = []\n",
    "for j in range(len(new_img[1])//2000):\n",
    "    h_list.append(np.hstack([masks[i] for i in range(j*(len(new_img[0])//2000),  j*(len(new_img[0])//2000)+ len(new_img[0])//2000)]))\n",
    "reconstruction = np.vstack(h_list)\n"
   ]
  },
  {
   "cell_type": "code",
   "execution_count": 4,
   "id": "193ad42a",
   "metadata": {
    "scrolled": true
   },
   "outputs": [],
   "source": [
    "from PIL import Image\n",
    "masks_read = []\n",
    "for i in glob.glob(folder_selected + os.path.sep +'cellpose_predictions'+ os.path.sep+ '*.png'):\n",
    "    masks_read.append(np.array(Image.open(i)))\n",
    "\n",
    "h_list = []\n",
    "for j in range(len(new_img[1])//2000):\n",
    "    h_list.append(np.hstack([masks_read[i] for i in range(j*(len(new_img[0])//2000),  j*(len(new_img[0])//2000) + len(new_img[0])//2000)]))\n",
    "vizualized_reconstruction = np.vstack(h_list)\n",
    "io.imsave(folder_selected + os.path.sep +'cellmask_reconstruction.tiff', vizualized_reconstruction)"
   ]
  },
  {
   "cell_type": "code",
   "execution_count": 6,
   "id": "47440a68",
   "metadata": {},
   "outputs": [],
   "source": [
    "vizualized_reconstruction = io.imread(folder_selected + os.path.sep +'cellmask_reconstruction.tiff')\n",
    "vizualized_reconstruction = np.clip(vizualized_reconstruction, 0, 1)\n",
    "gene_to_id_table = pd.read_csv('DataPathogenPanel1/geneID_to_geneName_MERSCOPE_panel1.txt', sep='\\t', index_col=0)\n",
    "should_explore = True#messagebox.askyesno('Save all transcript images?', 'Should all transcript images be saved? This may take a while')\n",
    "if should_explore == True:\n",
    "    try:\n",
    "        os.mkdir(folder_selected + os.path.sep + 'Transcript_Images')\n",
    "    except:\n",
    "        None\n",
    "\n",
    "    def display_gene_spatial(cell_image, gene_name, detected_transcript_df, cluster):\n",
    "        if os.path.exists(folder_selected + os.path.sep + 'Transcript_Images'+os.path.sep + os.path.basename(folder_selected)+' - Gene - '+gene_name.split('.')[0].replace('/', '')+'.png'):\n",
    "            None\n",
    "        else:\n",
    "            print(gene_name, end = ' ')\n",
    "            xandy = detected_transcript_df[detected_transcript_df['gene'] == gene_name]\n",
    "            x = xandy['global_x'].tolist()\n",
    "            y = xandy['global_y'].tolist()\n",
    "            plt.figure(figsize=(10, 10), dpi=100)\n",
    "            plt.ylim(len(cell_image.T),0)\n",
    "            plt.imshow(cell_image.T, vmax = 2.3, cmap = 'Greys_r')\n",
    "            plt.scatter(x, y, s = 0.15, color = 'cyan')\n",
    "            plt.title('Experiment '+ os.path.basename(folder_selected)+': Gene - '+gene_name)\n",
    "            plt.savefig(folder_selected + os.path.sep + 'Transcript_Images'+os.path.sep + os.path.basename(folder_selected)+' - Gene - '+gene_name.split('.')[0].replace('/', '')+'.png')\n",
    "            plt.close()\n",
    "    all_genes = np.unique(detected_tanscripts['gene'].tolist())\n",
    "    for i in range(len(all_genes)):\n",
    "        display_gene_spatial(vizualized_reconstruction, all_genes[i], detected_tanscripts, 0)   "
   ]
  }
 ],
 "metadata": {
  "kernelspec": {
   "display_name": "Python 3 (ipykernel)",
   "language": "python",
   "name": "python3"
  },
  "language_info": {
   "codemirror_mode": {
    "name": "ipython",
    "version": 3
   },
   "file_extension": ".py",
   "mimetype": "text/x-python",
   "name": "python",
   "nbconvert_exporter": "python",
   "pygments_lexer": "ipython3",
   "version": "3.10.4"
  }
 },
 "nbformat": 4,
 "nbformat_minor": 5
}
