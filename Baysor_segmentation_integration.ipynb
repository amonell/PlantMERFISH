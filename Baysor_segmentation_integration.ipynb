{
 "cells": [
  {
   "cell_type": "code",
   "execution_count": 3,
   "id": "1886969b",
   "metadata": {},
   "outputs": [],
   "source": [
    "import pandas as pd\n",
    "import numpy as np\n",
    "import scanpy as sc\n",
    "from src.Baysor_seg_postprocess import *"
   ]
  },
  {
   "cell_type": "code",
   "execution_count": 4,
   "id": "6bf9f962",
   "metadata": {},
   "outputs": [],
   "source": [
    "baysor_segmentation_folder = r'D:\\Tatsuya\\merscope\\Baysor_segmentations\\mock'"
   ]
  },
  {
   "cell_type": "code",
   "execution_count": 5,
   "id": "fa135d9b",
   "metadata": {},
   "outputs": [],
   "source": [
    "segmentation_name = 'segmentation_mock'"
   ]
  },
  {
   "cell_type": "code",
   "execution_count": null,
   "id": "c29f3219",
   "metadata": {},
   "outputs": [
    {
     "data": {
      "application/vnd.jupyter.widget-view+json": {
       "model_id": "18a7300c0b1349eabb6d59353b7f7b81",
       "version_major": 2,
       "version_minor": 0
      },
      "text/plain": [
       "  0%|          | 0/550 [00:00<?, ?it/s]"
      ]
     },
     "metadata": {},
     "output_type": "display_data"
    },
    {
     "name": "stderr",
     "output_type": "stream",
     "text": [
      "C:\\Users\\amonell\\Anaconda3\\envs\\vizgen_cellpose\\lib\\site-packages\\anndata\\_core\\anndata.py:798: UserWarning: \n",
      "AnnData expects .obs.index to contain strings, but got values like:\n",
      "    [0, 1, 2, 3, 4]\n",
      "\n",
      "    Inferred to be: integer\n",
      "\n",
      "  value_idx = self._prep_dim_index(value.index, attr)\n",
      "C:\\Users\\amonell\\Anaconda3\\envs\\vizgen_cellpose\\lib\\site-packages\\anndata\\_core\\anndata.py:121: ImplicitModificationWarning: Transforming to str index.\n",
      "  warnings.warn(\"Transforming to str index.\", ImplicitModificationWarning)\n",
      "C:\\Users\\amonell\\Anaconda3\\envs\\vizgen_cellpose\\lib\\site-packages\\anndata\\_core\\anndata.py:798: UserWarning: \n",
      "AnnData expects .obs.index to contain strings, but got values like:\n",
      "    [1, 2, 3, 4, 5]\n",
      "\n",
      "    Inferred to be: integer\n",
      "\n",
      "  value_idx = self._prep_dim_index(value.index, attr)\n",
      "C:\\Users\\amonell\\Anaconda3\\envs\\vizgen_cellpose\\lib\\site-packages\\scanpy\\preprocessing\\_simple.py:373: UserWarning: Received a view of an AnnData. Making a copy.\n",
      "  view_to_actual(adata)\n",
      "C:\\Users\\amonell\\Anaconda3\\envs\\vizgen_cellpose\\lib\\site-packages\\anndata\\_core\\anndata.py:121: ImplicitModificationWarning: Transforming to str index.\n",
      "  warnings.warn(\"Transforming to str index.\", ImplicitModificationWarning)\n"
     ]
    }
   ],
   "source": [
    "segmentation, segmentation_cell_stats = read_in_segmentation_baysor(baysor_segmentation_folder, segmentation_name)\n",
    "df_cell_by_gene, gene_list, segmentation_cell_stats_subset = create_baysor_cellxgene(segmentation, segmentation_cell_stats, baysor_segmentation_folder)\n",
    "adata, num_transcripts = create_baysor_adata(baysor_segmentation_folder, segmentation_cell_stats_subset, segmentation_cell_stats)\n",
    "baysor_qc_plots(adata, baysor_segmentation_folder)\n",
    "adata = baysor_postprocess_adata(adata, num_transcripts, baysor_segmentation_folder)\n",
    "adata.write(os.path.join(baysor_segmentation_folder, 'adata.h5ad'))"
   ]
  }
 ],
 "metadata": {
  "kernelspec": {
   "display_name": "Python 3 (ipykernel)",
   "language": "python",
   "name": "python3"
  },
  "language_info": {
   "codemirror_mode": {
    "name": "ipython",
    "version": 3
   },
   "file_extension": ".py",
   "mimetype": "text/x-python",
   "name": "python",
   "nbconvert_exporter": "python",
   "pygments_lexer": "ipython3",
   "version": "3.10.4"
  }
 },
 "nbformat": 4,
 "nbformat_minor": 5
}
